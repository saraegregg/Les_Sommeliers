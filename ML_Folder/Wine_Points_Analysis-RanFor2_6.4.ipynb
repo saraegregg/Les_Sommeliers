{
 "cells": [
  {
   "cell_type": "code",
   "execution_count": 1,
   "id": "c04c3673",
   "metadata": {},
   "outputs": [],
   "source": [
    "import warnings\n",
    "warnings.filterwarnings('ignore')"
   ]
  },
  {
   "cell_type": "code",
   "execution_count": 2,
   "id": "dc5d64f6",
   "metadata": {},
   "outputs": [],
   "source": [
    "# Initial imports\n",
    "import pandas as pd\n",
    "import numpy as np\n",
    "from pathlib import Path\n",
    "from collections import Counter\n",
    "from sklearn.model_selection import train_test_split\n",
    "from sklearn.preprocessing import StandardScaler, MinMaxScaler,OneHotEncoder\n",
    "import os\n",
    "from sklearn.metrics import balanced_accuracy_score\n",
    "from sklearn.metrics import confusion_matrix\n",
    "from imblearn.metrics import classification_report_imbalanced\n",
    "from sklearn.preprocessing import LabelEncoder\n",
    "from sklearn.linear_model import LogisticRegression\n",
    "from sklearn.ensemble import RandomForestClassifier\n",
    "# import tensorflow as tf\n",
    "# from tensorflow.keras.callbacks import ModelCheckpoint\n",
    "from sklearn.metrics import classification_report\n",
    "\n",
    "\n"
   ]
  },
  {
   "cell_type": "code",
   "execution_count": 3,
   "id": "b9369348",
   "metadata": {},
   "outputs": [
    {
     "data": {
      "text/html": [
       "<div>\n",
       "<style scoped>\n",
       "    .dataframe tbody tr th:only-of-type {\n",
       "        vertical-align: middle;\n",
       "    }\n",
       "\n",
       "    .dataframe tbody tr th {\n",
       "        vertical-align: top;\n",
       "    }\n",
       "\n",
       "    .dataframe thead th {\n",
       "        text-align: right;\n",
       "    }\n",
       "</style>\n",
       "<table border=\"1\" class=\"dataframe\">\n",
       "  <thead>\n",
       "    <tr style=\"text-align: right;\">\n",
       "      <th></th>\n",
       "      <th>description</th>\n",
       "      <th>points</th>\n",
       "      <th>wine_id</th>\n",
       "      <th>variety</th>\n",
       "      <th>price</th>\n",
       "      <th>province_id</th>\n",
       "      <th>country_id</th>\n",
       "      <th>country_name</th>\n",
       "      <th>winery_id</th>\n",
       "    </tr>\n",
       "  </thead>\n",
       "  <tbody>\n",
       "    <tr>\n",
       "      <th>0</th>\n",
       "      <td>This is ripe and fruity, a wine that is smooth...</td>\n",
       "      <td>87</td>\n",
       "      <td>0</td>\n",
       "      <td>Portuguese Red</td>\n",
       "      <td>15</td>\n",
       "      <td>0</td>\n",
       "      <td>0</td>\n",
       "      <td>Portugal</td>\n",
       "      <td>0</td>\n",
       "    </tr>\n",
       "    <tr>\n",
       "      <th>1</th>\n",
       "      <td>Pineapple rind, lemon pith and orange blossom ...</td>\n",
       "      <td>87</td>\n",
       "      <td>2</td>\n",
       "      <td>Riesling</td>\n",
       "      <td>13</td>\n",
       "      <td>2</td>\n",
       "      <td>1</td>\n",
       "      <td>US</td>\n",
       "      <td>2</td>\n",
       "    </tr>\n",
       "    <tr>\n",
       "      <th>2</th>\n",
       "      <td>Blackberry and raspberry aromas show a typical...</td>\n",
       "      <td>87</td>\n",
       "      <td>4</td>\n",
       "      <td>Tempranillo-Merlot</td>\n",
       "      <td>15</td>\n",
       "      <td>3</td>\n",
       "      <td>2</td>\n",
       "      <td>Spain</td>\n",
       "      <td>4</td>\n",
       "    </tr>\n",
       "    <tr>\n",
       "      <th>3</th>\n",
       "      <td>This dry and restrained wine offers spice in p...</td>\n",
       "      <td>87</td>\n",
       "      <td>6</td>\n",
       "      <td>Gewurztraminer</td>\n",
       "      <td>24</td>\n",
       "      <td>5</td>\n",
       "      <td>4</td>\n",
       "      <td>France</td>\n",
       "      <td>6</td>\n",
       "    </tr>\n",
       "    <tr>\n",
       "      <th>4</th>\n",
       "      <td>Savory dried thyme notes accent sunnier flavor...</td>\n",
       "      <td>87</td>\n",
       "      <td>7</td>\n",
       "      <td>Gewurztraminer</td>\n",
       "      <td>12</td>\n",
       "      <td>6</td>\n",
       "      <td>5</td>\n",
       "      <td>Germany</td>\n",
       "      <td>7</td>\n",
       "    </tr>\n",
       "    <tr>\n",
       "      <th>5</th>\n",
       "      <td>This has great depth of flavor with its fresh ...</td>\n",
       "      <td>87</td>\n",
       "      <td>8</td>\n",
       "      <td>Pinot Gris</td>\n",
       "      <td>27</td>\n",
       "      <td>5</td>\n",
       "      <td>4</td>\n",
       "      <td>France</td>\n",
       "      <td>8</td>\n",
       "    </tr>\n",
       "    <tr>\n",
       "      <th>6</th>\n",
       "      <td>Soft, supple plum envelopes an oaky structure ...</td>\n",
       "      <td>87</td>\n",
       "      <td>9</td>\n",
       "      <td>Cabernet Sauvignon</td>\n",
       "      <td>19</td>\n",
       "      <td>7</td>\n",
       "      <td>1</td>\n",
       "      <td>US</td>\n",
       "      <td>9</td>\n",
       "    </tr>\n",
       "    <tr>\n",
       "      <th>7</th>\n",
       "      <td>This is a dry wine, very spicy, with a tight, ...</td>\n",
       "      <td>87</td>\n",
       "      <td>10</td>\n",
       "      <td>Gewurztraminer</td>\n",
       "      <td>30</td>\n",
       "      <td>5</td>\n",
       "      <td>4</td>\n",
       "      <td>France</td>\n",
       "      <td>10</td>\n",
       "    </tr>\n",
       "    <tr>\n",
       "      <th>8</th>\n",
       "      <td>Slightly reduced, this wine offers a chalky, t...</td>\n",
       "      <td>87</td>\n",
       "      <td>11</td>\n",
       "      <td>Cabernet Sauvignon</td>\n",
       "      <td>34</td>\n",
       "      <td>7</td>\n",
       "      <td>1</td>\n",
       "      <td>US</td>\n",
       "      <td>11</td>\n",
       "    </tr>\n",
       "    <tr>\n",
       "      <th>9</th>\n",
       "      <td>Zesty orange peels and apple notes abound in t...</td>\n",
       "      <td>87</td>\n",
       "      <td>13</td>\n",
       "      <td>Riesling</td>\n",
       "      <td>24</td>\n",
       "      <td>8</td>\n",
       "      <td>5</td>\n",
       "      <td>Germany</td>\n",
       "      <td>13</td>\n",
       "    </tr>\n",
       "  </tbody>\n",
       "</table>\n",
       "</div>"
      ],
      "text/plain": [
       "                                         description  points  wine_id  \\\n",
       "0  This is ripe and fruity, a wine that is smooth...      87        0   \n",
       "1  Pineapple rind, lemon pith and orange blossom ...      87        2   \n",
       "2  Blackberry and raspberry aromas show a typical...      87        4   \n",
       "3  This dry and restrained wine offers spice in p...      87        6   \n",
       "4  Savory dried thyme notes accent sunnier flavor...      87        7   \n",
       "5  This has great depth of flavor with its fresh ...      87        8   \n",
       "6  Soft, supple plum envelopes an oaky structure ...      87        9   \n",
       "7  This is a dry wine, very spicy, with a tight, ...      87       10   \n",
       "8  Slightly reduced, this wine offers a chalky, t...      87       11   \n",
       "9  Zesty orange peels and apple notes abound in t...      87       13   \n",
       "\n",
       "              variety  price  province_id  country_id country_name  winery_id  \n",
       "0      Portuguese Red     15            0           0     Portugal          0  \n",
       "1            Riesling     13            2           1           US          2  \n",
       "2  Tempranillo-Merlot     15            3           2        Spain          4  \n",
       "3      Gewurztraminer     24            5           4       France          6  \n",
       "4      Gewurztraminer     12            6           5      Germany          7  \n",
       "5          Pinot Gris     27            5           4       France          8  \n",
       "6  Cabernet Sauvignon     19            7           1           US          9  \n",
       "7      Gewurztraminer     30            5           4       France         10  \n",
       "8  Cabernet Sauvignon     34            7           1           US         11  \n",
       "9            Riesling     24            8           5      Germany         13  "
      ]
     },
     "execution_count": 3,
     "metadata": {},
     "output_type": "execute_result"
    }
   ],
   "source": [
    "#  Import and read the csv file(s)\n",
    "#file_path = \"../Mod20_Group_Challenge/iris.csv\"\n",
    "wine_df=pd.read_csv(\"../data_cleaning/ml_master_table.csv\", encoding='latin1')\n"
   ]
  },
  {
   "cell_type": "code",
   "execution_count": 4,
   "id": "bc1ff9d6",
   "metadata": {},
   "outputs": [],
   "source": [
    "# Pull in top keywords\n",
    "keywords = ['ripe', 'crisp', 'bright', 'dry', 'full', 'sweet', 'fresh', 'earthy', 'bitter', 'aftertaste']\n",
    "for k in keywords:\n",
    "    wine_df[k] = wine_df.description.apply(lambda x : 1 if x.find(k)>-1 else 0)\n"
   ]
  },
  {
   "cell_type": "code",
   "execution_count": 5,
   "id": "97004619",
   "metadata": {},
   "outputs": [],
   "source": [
    "# Drop the non-beneficial ID columns, 'Description'.\n",
    "wine_df=wine_df.drop(columns=['description', 'wine_id', 'province_id', 'country_id', 'winery_id'])\n"
   ]
  },
  {
   "cell_type": "code",
   "execution_count": 6,
   "id": "c277510e",
   "metadata": {},
   "outputs": [
    {
     "data": {
      "text/plain": [
       "88     13407\n",
       "90     12071\n",
       "87     12036\n",
       "89      9878\n",
       "91      9087\n",
       "86      8931\n",
       "92      7201\n",
       "85      6646\n",
       "93      4909\n",
       "84      4091\n",
       "94      2746\n",
       "83      2015\n",
       "95      1106\n",
       "82      1004\n",
       "81       426\n",
       "96       364\n",
       "80       274\n",
       "97       145\n",
       "98        53\n",
       "99        16\n",
       "100       14\n",
       "Name: points, dtype: int64"
      ]
     },
     "execution_count": 6,
     "metadata": {},
     "output_type": "execute_result"
    }
   ],
   "source": [
    "point_counts=wine_df.points.value_counts()\n",
    "point_counts"
   ]
  },
  {
   "cell_type": "code",
   "execution_count": 7,
   "id": "a57f7938",
   "metadata": {},
   "outputs": [],
   "source": [
    "def getPoints(points):\n",
    "    if(points <= 85):\n",
    "        return '1'\n",
    "    elif(points<=90):\n",
    "        return '2'\n",
    "    elif(points<=95):\n",
    "        return '3'\n",
    "    elif(points<=100):\n",
    "        return '4'\n",
    "    else:\n",
    "        return 'If this gets hit, we did something wrong!'"
   ]
  },
  {
   "cell_type": "code",
   "execution_count": 8,
   "id": "5bf5a8f0",
   "metadata": {},
   "outputs": [],
   "source": [
    "wine_df['Points'] = wine_df['points'].apply(getPoints)"
   ]
  },
  {
   "cell_type": "code",
   "execution_count": 10,
   "id": "e195f0a4",
   "metadata": {},
   "outputs": [
    {
     "data": {
      "text/plain": [
       "20     5729\n",
       "15     5078\n",
       "25     4737\n",
       "30     3951\n",
       "18     3853\n",
       "       ... \n",
       "973       1\n",
       "757       1\n",
       "247       1\n",
       "322       1\n",
       "672       1\n",
       "Name: price, Length: 377, dtype: int64"
      ]
     },
     "execution_count": 10,
     "metadata": {},
     "output_type": "execute_result"
    }
   ],
   "source": [
    "price_counts=wine_df.price.value_counts()\n",
    "price_counts"
   ]
  },
  {
   "cell_type": "code",
   "execution_count": 11,
   "id": "0befd5e2",
   "metadata": {},
   "outputs": [
    {
     "data": {
      "text/plain": [
       "Other    44716\n",
       "20        5729\n",
       "15        5078\n",
       "25        4737\n",
       "30        3951\n",
       "18        3853\n",
       "12        3317\n",
       "13        3037\n",
       "35        2955\n",
       "40        2917\n",
       "16        2861\n",
       "10        2832\n",
       "22        2689\n",
       "14        2661\n",
       "50        2559\n",
       "17        2528\n",
       "Name: price, dtype: int64"
      ]
     },
     "execution_count": 11,
     "metadata": {},
     "output_type": "execute_result"
    }
   ],
   "source": [
    "# Determine which values to replace if counts are less than ..?\n",
    "replace_price = list(price_counts[price_counts < 2500].index)\n",
    "\n",
    "# Replace in dataframe\n",
    "for pri in replace_price:\n",
    "    wine_df.price= wine_df.price.replace(pri,\"Other\")\n",
    "    \n",
    "# Check to make sure binning was successful\n",
    "wine_df.price.value_counts()"
   ]
  },
  {
   "cell_type": "code",
   "execution_count": 12,
   "id": "cfa759d6",
   "metadata": {},
   "outputs": [
    {
     "data": {
      "text/plain": [
       "Pinot Noir                      9831\n",
       "Chardonnay                      8298\n",
       "Red Blend                       6844\n",
       "Cabernet Sauvignon              6199\n",
       "Bordeaux-style Red Blend        4812\n",
       "                                ... \n",
       "Athiri                             1\n",
       "Cercial                            1\n",
       "Fruburgunder                       1\n",
       "Muscat Blanc a Petits Grains       1\n",
       "Bobal-Cabernet Sauvignon           1\n",
       "Name: variety, Length: 654, dtype: int64"
      ]
     },
     "execution_count": 12,
     "metadata": {},
     "output_type": "execute_result"
    }
   ],
   "source": [
    "variety_counts=wine_df.variety.value_counts()\n",
    "variety_counts"
   ]
  },
  {
   "cell_type": "code",
   "execution_count": 13,
   "id": "d855eeba",
   "metadata": {},
   "outputs": [
    {
     "data": {
      "text/plain": [
       "Other                       38950\n",
       "Pinot Noir                   9831\n",
       "Chardonnay                   8298\n",
       "Red Blend                    6844\n",
       "Cabernet Sauvignon           6199\n",
       "Bordeaux-style Red Blend     4812\n",
       "Riesling                     4722\n",
       "Sauvignon Blanc              3841\n",
       "Syrah                        3103\n",
       "Rose                         3033\n",
       "Malbec                       2524\n",
       "Portuguese Red               2196\n",
       "Merlot                       2067\n",
       "Name: variety, dtype: int64"
      ]
     },
     "execution_count": 13,
     "metadata": {},
     "output_type": "execute_result"
    }
   ],
   "source": [
    "# Determine which values to replace if counts are less than ..?\n",
    "replace_variety = list(variety_counts[variety_counts < 2000].index)\n",
    "\n",
    "# Replace in dataframe\n",
    "for var in replace_variety:\n",
    "    wine_df.variety= wine_df.variety.replace(var,\"Other\")\n",
    "    \n",
    "# Check to make sure binning was successful\n",
    "wine_df.variety.value_counts()"
   ]
  },
  {
   "cell_type": "code",
   "execution_count": 15,
   "id": "b1e54075",
   "metadata": {},
   "outputs": [
    {
     "data": {
      "text/plain": [
       "US                        37503\n",
       "France                    17439\n",
       "Italy                     10113\n",
       "Spain                      6528\n",
       "Portugal                   4864\n",
       "Chile                      4300\n",
       "Argentina                  3835\n",
       "Austria                    2810\n",
       "Germany                    2093\n",
       "Australia                  2001\n",
       "New Zealand                1264\n",
       "South Africa               1236\n",
       "Israel                      484\n",
       "Greece                      460\n",
       "Canada                      253\n",
       "Bulgaria                    141\n",
       "Hungary                     138\n",
       "Romania                     119\n",
       "Uruguay                     109\n",
       "Turkey                       90\n",
       "Georgia                      84\n",
       "Slovenia                     79\n",
       "Croatia                      73\n",
       "England                      69\n",
       "Mexico                       65\n",
       "Moldova                      59\n",
       "Brazil                       47\n",
       "Lebanon                      34\n",
       "Morocco                      25\n",
       "Peru                         16\n",
       "Ukraine                      14\n",
       "Macedonia                    12\n",
       "Serbia                       12\n",
       "Czech Republic               12\n",
       "Cyprus                       11\n",
       "India                         9\n",
       "Switzerland                   7\n",
       "Luxembourg                    6\n",
       "Bosnia and Herzegovina        2\n",
       "Armenia                       2\n",
       "Slovakia                      1\n",
       "China                         1\n",
       "Name: country_name, dtype: int64"
      ]
     },
     "execution_count": 15,
     "metadata": {},
     "output_type": "execute_result"
    }
   ],
   "source": [
    "country_counts=wine_df.country_name.value_counts()\n",
    "country_counts"
   ]
  },
  {
   "cell_type": "code",
   "execution_count": 17,
   "id": "7acb857b",
   "metadata": {},
   "outputs": [
    {
     "data": {
      "text/plain": [
       "US           37503\n",
       "France       17439\n",
       "Italy        10113\n",
       "Spain         6528\n",
       "Other         4934\n",
       "Portugal      4864\n",
       "Chile         4300\n",
       "Argentina     3835\n",
       "Austria       2810\n",
       "Germany       2093\n",
       "Australia     2001\n",
       "Name: country_name, dtype: int64"
      ]
     },
     "execution_count": 17,
     "metadata": {},
     "output_type": "execute_result"
    }
   ],
   "source": [
    "# Determine which values to replace if counts are less than ..?\n",
    "replace_country = list(country_counts[country_counts < 2000].index)\n",
    "\n",
    "# Replace in dataframe\n",
    "for coun in replace_country:\n",
    "    wine_df.country_name= wine_df.country_name.replace(coun,\"Other\")\n",
    "    \n",
    "# Check to make sure binning was successful\n",
    "wine_df.country_name.value_counts()"
   ]
  },
  {
   "cell_type": "code",
   "execution_count": 18,
   "id": "5c2cd575",
   "metadata": {},
   "outputs": [],
   "source": [
    "wine_df['Points']=wine_df['Points'].astype(int)"
   ]
  },
  {
   "cell_type": "code",
   "execution_count": 19,
   "id": "0d73b048",
   "metadata": {},
   "outputs": [],
   "source": [
    "wine_df['price']=wine_df['price'].astype(str)"
   ]
  },
  {
   "cell_type": "code",
   "execution_count": null,
   "id": "ecc25a53",
   "metadata": {},
   "outputs": [],
   "source": [
    "# wine_df = wine_df.drop(columns=['province', 'title', 'winery', 'taster_name'], axis=1) "
   ]
  },
  {
   "cell_type": "code",
   "execution_count": 21,
   "id": "1572a6e4",
   "metadata": {},
   "outputs": [],
   "source": [
    "# Generate our categorical variable lists\n",
    "wine_cat=wine_df.dtypes[wine_df.dtypes ==\"object\"].index.tolist()"
   ]
  },
  {
   "cell_type": "code",
   "execution_count": 22,
   "id": "0868dd0e",
   "metadata": {},
   "outputs": [
    {
     "data": {
      "text/plain": [
       "variety         13\n",
       "price           16\n",
       "country_name    11\n",
       "dtype: int64"
      ]
     },
     "execution_count": 22,
     "metadata": {},
     "output_type": "execute_result"
    }
   ],
   "source": [
    "wine_df[wine_cat].nunique()"
   ]
  },
  {
   "cell_type": "code",
   "execution_count": 23,
   "id": "5c6ca51e",
   "metadata": {},
   "outputs": [],
   "source": [
    "# Create a OneHotEncoder instance\n",
    "enc = OneHotEncoder(sparse=False)\n",
    "\n",
    "# Fit and transform the OneHotEncoder using the categorical variable list\n",
    "wine_encode_df = pd.DataFrame(enc.fit_transform(wine_df[wine_cat]))\n",
    "wine_encode_df.columns = enc.get_feature_names(wine_cat)\n",
    "\n"
   ]
  },
  {
   "cell_type": "code",
   "execution_count": 24,
   "id": "81d1a830",
   "metadata": {},
   "outputs": [],
   "source": [
    "# Add the encoded variable names to the dataframe\n",
    "wine_df = wine_df.merge(wine_encode_df,left_index=True, right_index=True)\n",
    "wine_df = wine_df.drop(wine_cat,1)\n"
   ]
  },
  {
   "cell_type": "code",
   "execution_count": 25,
   "id": "f1fb918d",
   "metadata": {},
   "outputs": [],
   "source": [
    "# # drop unnecessary columns province, region_1, region_2, taster_twitter_handle, title, variety and winery. \n",
    "wine_df = wine_df.drop(columns=['points']) \n",
    "# # del wine_df['winery']\n",
    "# # # hot encoding for country and taster name as they are limited categories. \n",
    "# wine_df = pd.get_dummies(wine_df, columns=['country', 'price', 'variety'])"
   ]
  },
  {
   "cell_type": "code",
   "execution_count": 27,
   "id": "9f07f0c9",
   "metadata": {},
   "outputs": [],
   "source": [
    "wine_df.to_csv(r'../data_cleaning/ML_data2.csv', index=False)"
   ]
  },
  {
   "cell_type": "code",
   "execution_count": 28,
   "id": "968c1511",
   "metadata": {},
   "outputs": [
    {
     "data": {
      "text/plain": [
       "ripe                                  int64\n",
       "crisp                                 int64\n",
       "bright                                int64\n",
       "dry                                   int64\n",
       "full                                  int64\n",
       "sweet                                 int64\n",
       "fresh                                 int64\n",
       "earthy                                int64\n",
       "bitter                                int64\n",
       "aftertaste                            int64\n",
       "Points                                int32\n",
       "variety_Bordeaux-style Red Blend    float64\n",
       "variety_Cabernet Sauvignon          float64\n",
       "variety_Chardonnay                  float64\n",
       "variety_Malbec                      float64\n",
       "variety_Merlot                      float64\n",
       "variety_Other                       float64\n",
       "variety_Pinot Noir                  float64\n",
       "variety_Portuguese Red              float64\n",
       "variety_Red Blend                   float64\n",
       "variety_Riesling                    float64\n",
       "variety_Rose                        float64\n",
       "variety_Sauvignon Blanc             float64\n",
       "variety_Syrah                       float64\n",
       "price_10                            float64\n",
       "price_12                            float64\n",
       "price_13                            float64\n",
       "price_14                            float64\n",
       "price_15                            float64\n",
       "price_16                            float64\n",
       "price_17                            float64\n",
       "price_18                            float64\n",
       "price_20                            float64\n",
       "price_22                            float64\n",
       "price_25                            float64\n",
       "price_30                            float64\n",
       "price_35                            float64\n",
       "price_40                            float64\n",
       "price_50                            float64\n",
       "price_Other                         float64\n",
       "country_name_Argentina              float64\n",
       "country_name_Australia              float64\n",
       "country_name_Austria                float64\n",
       "country_name_Chile                  float64\n",
       "country_name_France                 float64\n",
       "country_name_Germany                float64\n",
       "country_name_Italy                  float64\n",
       "country_name_Other                  float64\n",
       "country_name_Portugal               float64\n",
       "country_name_Spain                  float64\n",
       "country_name_US                     float64\n",
       "dtype: object"
      ]
     },
     "execution_count": 28,
     "metadata": {},
     "output_type": "execute_result"
    }
   ],
   "source": [
    "wine_df.dtypes"
   ]
  },
  {
   "cell_type": "code",
   "execution_count": 29,
   "id": "a5f0822e",
   "metadata": {},
   "outputs": [],
   "source": [
    "# Split our preprocessed data into our features and target arrays\n",
    "y = wine_df[\"Points\"].values\n",
    "X = wine_df.drop([\"Points\"],1).values\n",
    "\n",
    "# Split the preprocessed data into a training and testing dataset\n",
    "X_train, X_test, y_train, y_test = train_test_split(X, y, random_state=78)\n"
   ]
  },
  {
   "cell_type": "code",
   "execution_count": 30,
   "id": "a37094d2",
   "metadata": {},
   "outputs": [],
   "source": [
    "# Create a StandardScaler instances\n",
    "# scaler = StandardScaler()\n",
    "\n",
    "# # Fit the StandardScaler\n",
    "# X_scaler = scaler.fit(X_train)\n",
    "\n",
    "# # Scale the data\n",
    "# X_train_scaled = X_scaler.transform(X_train)\n",
    "# X_test_scaled = X_scaler.transform(X_test)"
   ]
  },
  {
   "cell_type": "code",
   "execution_count": 31,
   "id": "4ac726b4",
   "metadata": {},
   "outputs": [
    {
     "name": "stdout",
     "output_type": "stream",
     "text": [
      "Training Score: 0.7021917997649174\n",
      "Testing Score: 0.6199958514830948\n"
     ]
    }
   ],
   "source": [
    "clf = RandomForestClassifier(random_state=1).fit(X_train, y_train)\n",
    "print(f'Training Score: {clf.score(X_train, y_train)}')\n",
    "print(f'Testing Score: {clf.score(X_test, y_test)}') "
   ]
  },
  {
   "cell_type": "code",
   "execution_count": 32,
   "id": "fbf4c453",
   "metadata": {},
   "outputs": [],
   "source": [
    "from sklearn.metrics import accuracy_score"
   ]
  },
  {
   "cell_type": "code",
   "execution_count": 33,
   "id": "d834179a",
   "metadata": {},
   "outputs": [
    {
     "name": "stdout",
     "output_type": "stream",
     "text": [
      " Random forest predictive accuracy: 0.621\n"
     ]
    }
   ],
   "source": [
    "# Create a random forest classifier.\n",
    "rf_model = RandomForestClassifier(n_estimators=128, random_state=78)\n",
    "\n",
    "# Fitting the model\n",
    "rf_model = rf_model.fit(X_train, y_train)\n",
    "\n",
    "# Evaluate the model\n",
    "y_pred = rf_model.predict(X_test)\n",
    "print(f\" Random forest predictive accuracy: {accuracy_score(y_test,y_pred):.3f}\")"
   ]
  },
  {
   "cell_type": "code",
   "execution_count": 34,
   "id": "abbece9b",
   "metadata": {},
   "outputs": [],
   "source": [
    "# Calculating the confusion matrix\n",
    "cm = confusion_matrix(y_test, y_pred)\n",
    "cm_df = pd.DataFrame(\n",
    "    cm, index=[\"FINE\", \"GOOD\", \"VERY GOOD\", \"EXCEPTIONAL\"])\n",
    "\n",
    "# Calculating the accuracy score\n",
    "acc_score = accuracy_score(y_test, y_pred)"
   ]
  },
  {
   "cell_type": "code",
   "execution_count": 35,
   "id": "7e83a057",
   "metadata": {},
   "outputs": [
    {
     "name": "stdout",
     "output_type": "stream",
     "text": [
      "Confusion Matrix\n"
     ]
    },
    {
     "data": {
      "text/html": [
       "<div>\n",
       "<style scoped>\n",
       "    .dataframe tbody tr th:only-of-type {\n",
       "        vertical-align: middle;\n",
       "    }\n",
       "\n",
       "    .dataframe tbody tr th {\n",
       "        vertical-align: top;\n",
       "    }\n",
       "\n",
       "    .dataframe thead th {\n",
       "        text-align: right;\n",
       "    }\n",
       "</style>\n",
       "<table border=\"1\" class=\"dataframe\">\n",
       "  <thead>\n",
       "    <tr style=\"text-align: right;\">\n",
       "      <th></th>\n",
       "      <th>0</th>\n",
       "      <th>1</th>\n",
       "      <th>2</th>\n",
       "      <th>3</th>\n",
       "    </tr>\n",
       "  </thead>\n",
       "  <tbody>\n",
       "    <tr>\n",
       "      <th>FINE</th>\n",
       "      <td>963</td>\n",
       "      <td>2395</td>\n",
       "      <td>276</td>\n",
       "      <td>0</td>\n",
       "    </tr>\n",
       "    <tr>\n",
       "      <th>GOOD</th>\n",
       "      <td>830</td>\n",
       "      <td>10963</td>\n",
       "      <td>2383</td>\n",
       "      <td>1</td>\n",
       "    </tr>\n",
       "    <tr>\n",
       "      <th>VERY GOOD</th>\n",
       "      <td>61</td>\n",
       "      <td>3072</td>\n",
       "      <td>3032</td>\n",
       "      <td>3</td>\n",
       "    </tr>\n",
       "    <tr>\n",
       "      <th>EXCEPTIONAL</th>\n",
       "      <td>2</td>\n",
       "      <td>52</td>\n",
       "      <td>72</td>\n",
       "      <td>0</td>\n",
       "    </tr>\n",
       "  </tbody>\n",
       "</table>\n",
       "</div>"
      ],
      "text/plain": [
       "               0      1     2  3\n",
       "FINE         963   2395   276  0\n",
       "GOOD         830  10963  2383  1\n",
       "VERY GOOD     61   3072  3032  3\n",
       "EXCEPTIONAL    2     52    72  0"
      ]
     },
     "metadata": {},
     "output_type": "display_data"
    },
    {
     "name": "stdout",
     "output_type": "stream",
     "text": [
      "Accuracy Score : 0.6205351586807716\n",
      "Classification Report\n",
      "              precision    recall  f1-score   support\n",
      "\n",
      "           1       0.52      0.26      0.35      3634\n",
      "           2       0.67      0.77      0.72     14177\n",
      "           3       0.53      0.49      0.51      6168\n",
      "           4       0.00      0.00      0.00       126\n",
      "\n",
      "    accuracy                           0.62     24105\n",
      "   macro avg       0.43      0.38      0.39     24105\n",
      "weighted avg       0.60      0.62      0.60     24105\n",
      "\n"
     ]
    }
   ],
   "source": [
    "# Displaying results\n",
    "print(\"Confusion Matrix\")\n",
    "display(cm_df)\n",
    "print(f\"Accuracy Score : {acc_score}\")\n",
    "print(\"Classification Report\")\n",
    "print(classification_report(y_test, y_pred))"
   ]
  },
  {
   "cell_type": "code",
   "execution_count": 36,
   "id": "06166dd2",
   "metadata": {},
   "outputs": [],
   "source": [
    "import pickle"
   ]
  },
  {
   "cell_type": "code",
   "execution_count": 37,
   "id": "cf1d3faf",
   "metadata": {},
   "outputs": [],
   "source": [
    "pickle.dump(rf_model, open(\"../model.p\", \"wb\"))"
   ]
  },
  {
   "cell_type": "code",
   "execution_count": null,
   "id": "4bffc054",
   "metadata": {},
   "outputs": [],
   "source": []
  }
 ],
 "metadata": {
  "interpreter": {
   "hash": "807f2a0d5e8ffab31971f4e985d23433f20579a80f7d6653af265647a47932d5"
  },
  "kernelspec": {
   "display_name": "PythonData",
   "language": "python",
   "name": "pythondata"
  },
  "language_info": {
   "codemirror_mode": {
    "name": "ipython",
    "version": 3
   },
   "file_extension": ".py",
   "mimetype": "text/x-python",
   "name": "python",
   "nbconvert_exporter": "python",
   "pygments_lexer": "ipython3",
   "version": "3.9.7"
  }
 },
 "nbformat": 4,
 "nbformat_minor": 5
}
