{
 "cells": [
  {
   "cell_type": "code",
   "execution_count": null,
   "id": "f89350df",
   "metadata": {},
   "outputs": [],
   "source": [
    "# Initial imports\n",
    "import pandas as pd\n",
    "from sklearn.model_selection import train_test_split\n",
    "from sklearn.preprocessing import StandardScaler, MinMaxScaler,OneHotEncoder\n",
    "\n"
   ]
  },
  {
   "cell_type": "code",
   "execution_count": null,
   "id": "c15cc243",
   "metadata": {},
   "outputs": [],
   "source": [
    "#  Import and read the csv file(s)\n",
    "# wine_df=pd.read_csv(\"wine.csv\")"
   ]
  },
  {
   "cell_type": "code",
   "execution_count": null,
   "id": "577576e1",
   "metadata": {},
   "outputs": [],
   "source": [
    "# y=points\n",
    "# X=<columns array>(country, description, designation,price, province, region1, region2, taster_name, taster_twitter_handle, title, variety, winery)"
   ]
  },
  {
   "cell_type": "code",
   "execution_count": null,
   "id": "7fed8d85",
   "metadata": {},
   "outputs": [],
   "source": []
  }
 ],
 "metadata": {
  "kernelspec": {
   "display_name": "PythonData",
   "language": "python",
   "name": "pythondata"
  },
  "language_info": {
   "codemirror_mode": {
    "name": "ipython",
    "version": 3
   },
   "file_extension": ".py",
   "mimetype": "text/x-python",
   "name": "python",
   "nbconvert_exporter": "python",
   "pygments_lexer": "ipython3",
   "version": "3.9.7"
  }
 },
 "nbformat": 4,
 "nbformat_minor": 5
}
