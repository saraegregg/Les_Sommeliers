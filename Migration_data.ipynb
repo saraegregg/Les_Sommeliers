{
 "cells": [
  {
   "cell_type": "code",
   "execution_count": 1,
   "id": "29bad753",
   "metadata": {},
   "outputs": [],
   "source": [
    "import pandas as pd\n",
    "download = \"https://raw.githubusercontent.com/amankharwal/Website-data/master/migration_nz.csv\""
   ]
  },
  {
   "cell_type": "code",
   "execution_count": 2,
   "id": "c2eeb30d",
   "metadata": {},
   "outputs": [
    {
     "data": {
      "text/html": [
       "<div>\n",
       "<style scoped>\n",
       "    .dataframe tbody tr th:only-of-type {\n",
       "        vertical-align: middle;\n",
       "    }\n",
       "\n",
       "    .dataframe tbody tr th {\n",
       "        vertical-align: top;\n",
       "    }\n",
       "\n",
       "    .dataframe thead th {\n",
       "        text-align: right;\n",
       "    }\n",
       "</style>\n",
       "<table border=\"1\" class=\"dataframe\">\n",
       "  <thead>\n",
       "    <tr style=\"text-align: right;\">\n",
       "      <th></th>\n",
       "      <th>Measure</th>\n",
       "      <th>Country</th>\n",
       "      <th>Citizenship</th>\n",
       "      <th>Year</th>\n",
       "      <th>Value</th>\n",
       "    </tr>\n",
       "  </thead>\n",
       "  <tbody>\n",
       "    <tr>\n",
       "      <th>0</th>\n",
       "      <td>Arrivals</td>\n",
       "      <td>Oceania</td>\n",
       "      <td>New Zealand Citizen</td>\n",
       "      <td>1979</td>\n",
       "      <td>11817.0</td>\n",
       "    </tr>\n",
       "    <tr>\n",
       "      <th>1</th>\n",
       "      <td>Arrivals</td>\n",
       "      <td>Oceania</td>\n",
       "      <td>Australian Citizen</td>\n",
       "      <td>1979</td>\n",
       "      <td>4436.0</td>\n",
       "    </tr>\n",
       "    <tr>\n",
       "      <th>2</th>\n",
       "      <td>Arrivals</td>\n",
       "      <td>Oceania</td>\n",
       "      <td>Total All Citizenships</td>\n",
       "      <td>1979</td>\n",
       "      <td>19965.0</td>\n",
       "    </tr>\n",
       "    <tr>\n",
       "      <th>3</th>\n",
       "      <td>Arrivals</td>\n",
       "      <td>Antarctica</td>\n",
       "      <td>New Zealand Citizen</td>\n",
       "      <td>1979</td>\n",
       "      <td>10.0</td>\n",
       "    </tr>\n",
       "    <tr>\n",
       "      <th>4</th>\n",
       "      <td>Arrivals</td>\n",
       "      <td>Antarctica</td>\n",
       "      <td>Australian Citizen</td>\n",
       "      <td>1979</td>\n",
       "      <td>0.0</td>\n",
       "    </tr>\n",
       "  </tbody>\n",
       "</table>\n",
       "</div>"
      ],
      "text/plain": [
       "    Measure     Country             Citizenship  Year    Value\n",
       "0  Arrivals     Oceania     New Zealand Citizen  1979  11817.0\n",
       "1  Arrivals     Oceania      Australian Citizen  1979   4436.0\n",
       "2  Arrivals     Oceania  Total All Citizenships  1979  19965.0\n",
       "3  Arrivals  Antarctica     New Zealand Citizen  1979     10.0\n",
       "4  Arrivals  Antarctica      Australian Citizen  1979      0.0"
      ]
     },
     "execution_count": 2,
     "metadata": {},
     "output_type": "execute_result"
    }
   ],
   "source": [
    "df = pd.read_csv(download)\n",
    "df.head()"
   ]
  },
  {
   "cell_type": "code",
   "execution_count": 3,
   "id": "a3810b8b",
   "metadata": {},
   "outputs": [
    {
     "data": {
      "text/plain": [
       "Measure           3\n",
       "Country         253\n",
       "Citizenship       3\n",
       "Year             38\n",
       "Value          3670\n",
       "dtype: int64"
      ]
     },
     "execution_count": 3,
     "metadata": {},
     "output_type": "execute_result"
    }
   ],
   "source": [
    "df.nunique()"
   ]
  },
  {
   "cell_type": "code",
   "execution_count": 4,
   "id": "928bd99c",
   "metadata": {},
   "outputs": [
    {
     "data": {
      "text/plain": [
       "Arrivals      28842\n",
       "Departures    28842\n",
       "Net           28842\n",
       "Name: Measure, dtype: int64"
      ]
     },
     "execution_count": 4,
     "metadata": {},
     "output_type": "execute_result"
    }
   ],
   "source": [
    "measure_types = df.Measure.value_counts()\n",
    "measure_types"
   ]
  },
  {
   "cell_type": "code",
   "execution_count": 5,
   "id": "bf3d482a",
   "metadata": {},
   "outputs": [
    {
     "data": {
      "text/plain": [
       "New Zealand Citizen       28842\n",
       "Australian Citizen        28842\n",
       "Total All Citizenships    28842\n",
       "Name: Citizenship, dtype: int64"
      ]
     },
     "execution_count": 5,
     "metadata": {},
     "output_type": "execute_result"
    }
   ],
   "source": [
    "citizenship_types = df.Citizenship.value_counts()\n",
    "citizenship_types"
   ]
  },
  {
   "cell_type": "code",
   "execution_count": 6,
   "id": "f8601a35",
   "metadata": {},
   "outputs": [
    {
     "data": {
      "text/plain": [
       "Oceania              342\n",
       "US Virgin Islands    342\n",
       "Puerto Rico          342\n",
       "Paraguay             342\n",
       "Suriname             342\n",
       "                    ... \n",
       "Greece               342\n",
       "Croatia              342\n",
       "Hungary              342\n",
       "Ireland              342\n",
       "All countries        342\n",
       "Name: Country, Length: 253, dtype: int64"
      ]
     },
     "execution_count": 6,
     "metadata": {},
     "output_type": "execute_result"
    }
   ],
   "source": [
    "country_types = df.Country.value_counts()\n",
    "country_types"
   ]
  },
  {
   "cell_type": "code",
   "execution_count": 7,
   "id": "a81cf173",
   "metadata": {},
   "outputs": [
    {
     "name": "stdout",
     "output_type": "stream",
     "text": [
      "Measure         object\n",
      "Country         object\n",
      "Citizenship     object\n",
      "Year             int64\n",
      "Value          float64\n",
      "dtype: object\n"
     ]
    }
   ],
   "source": [
    "with pd.option_context('display.max_rows', None, 'display.max_columns', None):\n",
    "    print(df.dtypes)"
   ]
  }
 ],
 "metadata": {
  "kernelspec": {
   "display_name": "mlenv",
   "language": "python",
   "name": "mlenv"
  },
  "language_info": {
   "codemirror_mode": {
    "name": "ipython",
    "version": 3
   },
   "file_extension": ".py",
   "mimetype": "text/x-python",
   "name": "python",
   "nbconvert_exporter": "python",
   "pygments_lexer": "ipython3",
   "version": "3.7.11"
  }
 },
 "nbformat": 4,
 "nbformat_minor": 5
}
